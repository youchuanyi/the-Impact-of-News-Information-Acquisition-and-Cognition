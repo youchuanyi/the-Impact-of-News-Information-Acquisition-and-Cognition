{
 "cells": [
  {
   "cell_type": "markdown",
   "id": "35e1dd9b-97b2-46d4-a3ee-d1938521552e",
   "metadata": {
    "tags": []
   },
   "source": [
    "# the-impact-of-news-information-acquisitionn-and-cognitoin\n",
    "## introduction\n",
    "In contemporary society, the proliferation of news and information acquisition channels has had a profound impact on individual social attitudes and cognitive behaviors. The \"2019 College Students' Social Mentality Survey,\" led by Dr. Ma Deyong, a professor of political science at Renmin University of China, is designed to explore how Chinese college students access news and information and the subsequent effect on their perception of societal, political, and economic issues. \n",
    "\n",
    "This survey spans a comprehensive range of topics, from basic demographic information of respondents, such as age, gender, and educational background, to their satisfaction with the country's political and economic state, and their trust and preference towards various news media channels. It also delves into students' interest in political news, the amount of time they spend on such news, and their views on the challenges faced by media outlets in delivering truthful reporting. \n",
    "\n",
    "The research based on the survey aims to explore the impact of consuming political news on college students' perceptions and sentiments about the current state of society.\n",
    "### About Data\n",
    "The data set from the \"2019 College Student Information Perception Survey\" contains 1,254 entries and 133 columns, indicating a comprehensive set of ques- tions addressed in the survey.\n",
    "#### Data Processing\n",
    "Within the data set, questions 2 to 9 solicit personal information from respondents, such as age, gender, political affiliation, highest educational qualification, academic institution tier, field of study, family annual income, and hometown location. These variables will serve as control variables in the research. Questions 10, 11, and 12 investigate the respondents' satisfaction levels regarding politics, the economy, and personal life, respectively. These will act as dependent variables to assess the students' cognition. Questions 13, 14, and 15 explore the independent variables of interest for our research question, specifically the college students' interest in political news, the time spent browsing news, and the channels used for news consumption. The news channels variable is further processed into a binary variable indicating whether respondents access foreign media and their websites. Responses with a completion time of less than ten minutes will be excluded from the analysis. Question 31 serves as a mechanism to identify and eliminate responses from participants who do not answer the survey earnestly. The study does not encompass the survey questions such as college students' personal sentiments and their opinions on the news. Age column is also  removed since the respondenta are all college students.\n",
    "#### Descriptive Data"
   ]
  },
  {
   "cell_type": "markdown",
   "id": "e9ed9f0a-916f-4058-830f-c8e22a643f90",
   "metadata": {},
   "source": [
    " $\\color{red}{缺少可视化代码！}$\n",
    " \n",
    "Figure 1: Distribution regarding questions 2 to 9, information from respondents, such as age, gender, political affiliation, highest educational qualification, academic institution tier, field of study, family annual income, and hometown location.\n",
    "\n",
    "In the presented data, the gender distribution shows a slight majority of female respondents over males. Political affiliations lean significantly toward the Communist Youth League, with smaller representations from members of the Communist Party. Educational attainment is predominantly at the bachelor's level, with a smaller proportion holding a master's degree or higher. Considering university categories, the majority of respondents are from 985-tier universities, while vocational colleges account for fewer participants.\n",
    "\n",
    "The major field of study is led by social sciences, followed by science and engineering. Agriculture, engineering, animal husbandry, and medicine have the smallest numbers of students.\n",
    "\n",
    "The family income distribution reveals that most respondents come from families earning between 150k to 200k, with fewer in the 100k to 150k bracket. Most respondents are from small towns.\n",
    "\n",
    " $\\color{red}{缺少可视化代码！}$\n",
    " \n",
    "Figure 2: Distribution regarding question 10, 11 and 12 investigate the respon- dents' satisfaction levels regarding politics, the economy, and personal life. \n",
    "\n",
    "Satisfaction levels with the current political and social situation, economic development, situations show a trend towards quite satisfied, with a reason- able distribution across the satisfaction spectrum. However, when it comes to personal situation, more people showed their dissatisfaction.\n",
    "\n",
    " $\\color{red}{缺少可视化代码！}$\n",
    " \n",
    " Figure 3: Distribution regarding question 12, 13 and 14 investigate the respon-  dents' interest in political news, the time spent browsing news, and the channels  used for news consumption\n",
    " \n",
    " Interest in political news is predominantly quite interested to neutral, with very few indicating extreme disinterest. The frequency of browsing current affairs and political news is highest for a few times per week, followed by almost everyday. Finally, the majority of respondents do not browse overseas media and their websites."
   ]
  },
  {
   "cell_type": "markdown",
   "id": "f8eda559-482d-4afc-a7e7-c113319ad02f",
   "metadata": {},
   "source": [
    "## Hypothesis\n",
    "### Regression\n",
    "$$ pol\\_sat = \\beta_0+ \\beta_1 \\cdot \\text{interest} + \\beta_2 \\cdot \\text{time} + \\beta_3 \\cdot \\text{overseas} + \\gamma \\cdot \\text{controls} + \\epsilon_1 \\nonumber  $$\n",
    "$$ eco\\_sati = \\beta_0 + \\beta_1 \\cdot \\text{interest} + \\beta_2 \\cdot \\text{time} + \\beta_3 \\cdot \\text{overseas} + \\gamma \\cdot \\text{controls} + \\epsilon_2 \\nonumber  $$\n",
    "$$ lif\\_work\\_sati = \\beta_0 + \\beta_1 \\cdot \\text{interest} + \\beta_2 \\cdot \\text{time} + \\beta_3 \\cdot \\text{overseas} + \\gamma \\cdot \\text{controls} + \\epsilon_3 \\nonumber  $$\n",
    "\n",
    "Where,\n",
    "\\begin{align*}\n",
    "\\text{pol_sat} & : \\text{Political satisfaction} \\\\\n",
    "\\text{eco_sati} & : \\text{Economic satisfaction} \\\\\n",
    "\\text{lif_work_sati} & : \\text{Life and work satisfaction} \\\\\n",
    "\\beta_0 & :\\text{intercept} \\\\\n",
    "\\beta_1, \\beta_2, \\beta_3 & : \\text{Regression coefficients} \\\\\n",
    "\\gamma & : \\text{Coefficient for the control variables} \\\\\n",
    "\\text{controls} & : \\text{Vector of control variables} \\\\\n",
    "\\epsilon_1, \\epsilon_2, \\epsilon_3 & : \\text{Error terms, unexplained factors in the model}\n",
    "\\end{align*}\n",
    "\n",
    "We constructed three regression models to explore the determinants of political satisfaction (pol\\_sat), economic satisfaction (eco\\_sati), and life work satisfaction (lif\\_work\\_sati). These models integrate respondents' demographic details, including age, gender, political affiliation, highest level of education, institution level, field of study, annual household income, and hometown, as control variables.\n",
    "\n",
    "Moreover, the models incorporate individual factors such as interest in political news, time allocation, and exposure to overseas information as explanatory variables. The aim is to comprehensively investigate satisfaction levels in the domains of politics, economics, and life\\&work, considering a spectrum of personal and behavioral aspects. This modeling approach establishes a robust framework for a nuanced understanding of the factors influencing individuals' satisfaction levels."
   ]
  },
  {
   "cell_type": "markdown",
   "id": "05a61ac0-86c7-4bb2-b009-93582c1d42af",
   "metadata": {},
   "source": [
    "### Robustness\n",
    "For the robustness check, an ordered logistic regression model is employed.\n",
    "\n",
    "\\begin{align}\n",
    "\\text{Logit}(P(\\text{pol_sati} \\leq j)) &= \\alpha_j + \\beta_1 \\cdot \\text{interest} + \\beta_2 \\cdot \\text{time} + \\beta_3 \\cdot \\text{overseas} + \\gamma \\cdot \\text{controls} \\nonumber \\\\\n",
    "\\text{Logit}(P(\\text{eco_sati} \\leq j)) &= \\alpha_j + \\beta_1 \\cdot \\text{interest} + \\beta_2 \\cdot \\text{time} + \\beta_3 \\cdot \\text{overseas} + \\gamma \\cdot \\text{controls} \\nonumber \\\\\n",
    "\\text{Logit}(P(\\text{lif_work_sati} \\leq j)) &= \\alpha_j + \\beta_1 \\cdot \\text{interest} + \\beta_2 \\cdot \\text{time} + \\beta_3 \\cdot \\text{overseas} + \\gamma \\cdot \\text{controls} \\nonumber\n",
    "\\end{align}\n",
    "\n",
    "Where,\n",
    "\\begin{align*}\n",
    "\\text{Logit}(P(\\text{pol_sati} \\leq j)) & : \\text{Ordered log-odds for political satisfaction} \\\\\n",
    "\\text{Logit}(P(\\text{eco_sati} \\leq j)) & : \\text{Ordered log-odds for economic satisfaction} \\\\\n",
    "\\text{Logit}(P(\\text{lif_work_sati} \\leq j)) & : \\text{Ordered log-odds for life and work satisfaction} \\\\\n",
    "\\alpha_j & : \\text{Threshold parameters for different levels of satisfaction} \\\\\n",
    "\\beta_1, \\beta_2, \\beta_3 & : \\text{Regression coefficients} \\\\\n",
    "\\gamma & : \\text{Coefficient for the control variables} \\\\\n",
    "\\text{controls} & : \\text{Vector of control variables}\n",
    "\\end{align*}\n",
    "\n",
    "Here, each equation represents an ordered logit model of political satisfaction, economic satisfaction, and life\\&work satisfaction at different satisfaction levels. The model covers threshold parameters ($\\alpha_j$), regression coefficients ($\\beta_1, \\beta_2, \\beta_3$) reflecting the effects of explanatory variables, and coefficients of control variables ($\\gamma$) for each satisfaction level.\n",
    "\n",
    "In this way, we are able to check the consistency of the estimated coefficients under different specifications and thus assess the robustness of the results. The inclusion of control variables ensures that any observed effects are robust to bias due to omitted variables"
   ]
  },
  {
   "cell_type": "markdown",
   "id": "aa9073c2-3d2d-48f9-b29a-395bd355266f",
   "metadata": {},
   "source": [
    "## Results\n",
    "### OLS Regression\n",
    "#### imports"
   ]
  },
  {
   "cell_type": "code",
   "execution_count": 6,
   "id": "bd6119b9-3054-4f0b-beaa-a30f135330b3",
   "metadata": {
    "tags": []
   },
   "outputs": [],
   "source": [
    "import pandas as pd\n",
    "import statsmodels.api as sm\n",
    "import seaborn as sns\n",
    "import pandas as pd\n",
    "import numpy as np\n",
    "from ipywidgets import interact, widgets\n",
    "from IPython.display import display\n",
    "import ipympl\n",
    "import os"
   ]
  },
  {
   "cell_type": "markdown",
   "id": "dbad059f-ae00-40d7-8b23-435efb594730",
   "metadata": {},
   "source": [
    "#### data"
   ]
  },
  {
   "cell_type": "code",
   "execution_count": null,
   "id": "532a534a-fe19-4c9d-a7fb-a2af60c35a18",
   "metadata": {},
   "outputs": [],
   "source": [
    "data = pd.read_csv('/Users/zhengchuyi/Desktop/the-impact-of-news-information-acquisition-and-cognition/data/processed/processed_data.csv')"
   ]
  },
  {
   "cell_type": "markdown",
   "id": "06bc0008-9308-4399-a47c-8caaa03cc6bc",
   "metadata": {},
   "source": [
    "$\\color{red}{路径没改相对路径！dockerize时需要把这里解决}$\n",
    "### Regression"
   ]
  },
  {
   "cell_type": "code",
   "execution_count": null,
   "id": "8af9ce87-5b61-483d-acd9-f2ae23ecd28e",
   "metadata": {},
   "outputs": [],
   "source": [
    "print(data.head())\n",
    "gender = data['Q3']\n",
    "poli_afli = data['Q4']\n",
    "hi_edu = data['Q5']\n",
    "gra_uni = data['Q6']\n",
    "hig_maj = data['Q7']\n",
    "ann_inc = data['Q8']\n",
    "hometown = data['Q9']\n",
    "interest = data['Q13']\n",
    "time = data['Q14']\n",
    "overseas = data['Q15_A8']\n",
    "pol_sati = data['Q10']\n",
    "eco_sati = data['Q11']\n",
    "lif_work_sati = data['Q12']\n",
    "pol_sat = sm.OLS(pol_sati, sm.add_constant(pd.concat([gender, poli_afli, gra_uni, hig_maj, ann_inc, hometown, interest, time, overseas], axis=1))).fit()\n",
    "eco_sati = sm.OLS(eco_sati, sm.add_constant(pd.concat([gender, poli_afli, gra_uni, hig_maj, ann_inc, hometown, interest, time, overseas], axis=1))).fit()\n",
    "lif_work_sati = sm.OLS(lif_work_sati, sm.add_constant(pd.concat([gender, poli_afli, gra_uni, hig_maj, ann_inc, hometown, interest, time, overseas], axis=1))).fit()\n",
    "print(pol_sat.summary())"
   ]
  },
  {
   "cell_type": "markdown",
   "id": "2e0fd5bb-531c-4586-ba21-da99f45712aa",
   "metadata": {
    "tags": []
   },
   "source": [
    "$\\color{red}{可视化表格效果需检验}$"
   ]
  },
  {
   "cell_type": "markdown",
   "id": "e66758ea-a1f7-4e35-aab7-48e9d593a7d6",
   "metadata": {},
   "source": [
    "#### Analysis\n",
    "The findings in Table 1 reveal that the p-values associated with all three explanatory variables are below the conventional significance threshold of 0.05. This suggests that each of these variables is statistically significant. Specifically, the coefficient for Q13 (interest in political news) is estimated at 0.1652. This implies that, while keeping all other variables constant, a one-unit increase in students' interest in political news corresponds to a 0.1652 unit rise in their satisfaction with politics (pol\\_sati). Q14 has a coefficient of indicates that the more frequently political news is read, political satisfaction decreases by 0.0237 units. Similarly, the more exposure to overseas news, the less satisfied they are with politics, decreasing by 0.1993 units."
   ]
  },
  {
   "cell_type": "code",
   "execution_count": 2,
   "id": "50886816",
   "metadata": {
    "tags": []
   },
   "outputs": [],
   "source": [
    "print(eco_sati.summary())"
   ]
  },
  {
   "cell_type": "markdown",
   "id": "8a658f08-a9c2-49f8-95e0-e46888611d7c",
   "metadata": {},
   "source": [
    "According to results in Table 2, the positive coefficient of 0.1451 for Q13(interest in political news) suggests that, holding other variables constant, a one-unit increase in students' interest in political news is associated with a 0.1451 unit increase in satisfaction with economy. The coefficient for Q14 is -0.0237, indicating that there is no statistically significant relationship between time allocation (Q14) and satisfaction with economy, as the P-value is 0.381.The negative coefficient of -0.1993 for Q15\\_A8 suggests that, holding other variables constant, a one-unit increase in exposure to overseas information is associated with a 0.1993 unit decrease in satisfaction with economy. The P-value of 0.002 indicates that this relationship is statistically significant."
   ]
  },
  {
   "cell_type": "code",
   "execution_count": null,
   "id": "8fcfaf6a-29f3-49b7-8dc2-8a005c871f60",
   "metadata": {},
   "outputs": [],
   "source": [
    "print(lif_work_sati.summary())"
   ]
  },
  {
   "cell_type": "markdown",
   "id": "55bdec5b-8698-4b81-b9dc-7dc24167a529",
   "metadata": {
    "tags": []
   },
   "source": [
    "The results in Table 3 provide insights into the coefficients of the explanatory variables Q13, Q14, and Q15\\_A8 for the dependent variable Q12(life\\&work satisfaction).The positive coefficient of 0.1974 for Q13 suggests that, holding other variables constant, a one-unit increase in students' interest in political news is associated with a 0.1974 unit increase in satisfaction with life\\&work.The coefficient for Q14 is -0.0371, indicating that there is no statistically significant relationship between time allocation (Q14) and satisfaction with life\\&work, as the P-value is 0.233.The negative coefficient of -0.1233 for Q15\\_A8 suggests that, holding other variables constant, a one-unit increase in exposure to overseas information is associated with a 0.1233 unit decrease in satisfaction with life\\&work. The P-value of 0.093 indicates a marginal level of significance.\n",
    "#### Robust Test\n",
    "$\\color{red}{稳健性检验文字介绍在latex里没有}$"
   ]
  },
  {
   "cell_type": "code",
   "execution_count": null,
   "id": "708fd9c1-a5f7-44dd-a656-cbfa4fc86e1b",
   "metadata": {},
   "outputs": [],
   "source": [
    "response_variable1 = 'Q10'\n",
    "predictors1 = ['Q3', 'Q4', 'Q5', 'Q6', 'Q7', 'Q8', 'Q9', 'Q13', 'Q14', 'Q15_A8']\n",
    "\n",
    "mlogit_model1 = sm.MNLogit(data[response_variable1], sm.add_constant(data[predictors1]))\n",
    "result1 = mlogit_model1.fit()\n",
    "print(result1.summary())\n",
    "\n",
    "response_variable2 = 'Q11'\n",
    "predictors2 = ['Q3', 'Q4', 'Q5', 'Q6', 'Q7', 'Q8', 'Q9', 'Q13', 'Q14', 'Q15_A8']\n",
    "\n",
    "mlogit_model2 = sm.MNLogit(data[response_variable2], sm.add_constant(data[predictors2]))\n",
    "result2 = mlogit_model2.fit()\n",
    "print(result2.summary())\n",
    "\n",
    "response_variable3 = 'Q12'\n",
    "predictors3 = ['Q3', 'Q4', 'Q5', 'Q6', 'Q7', 'Q8', 'Q9', 'Q13', 'Q14', 'Q15_A8']\n",
    "\n",
    "mlogit_model3 = sm.MNLogit(data[response_variable3], sm.add_constant(data[predictors3]))\n",
    "result3 = mlogit_model3.fit()\n",
    "print(result3.summary())"
   ]
  },
  {
   "cell_type": "markdown",
   "id": "0fd96e2a-b613-488a-b293-5216bcb3818d",
   "metadata": {},
   "source": [
    "### Interactive Visualization\n",
    "This simple interactive component displays the correlation of key variables in an interactive way and uses a unified color scale to represent it.\n",
    "#### Parameters"
   ]
  },
  {
   "cell_type": "code",
   "execution_count": null,
   "id": "a4c24e70-8a20-4a2c-9974-7e9592f32490",
   "metadata": {
    "tags": []
   },
   "outputs": [],
   "source": [
    "script_directory = os.path.dirname(os.path.realpath(__file__))\n",
    "data_file_path = os.path.join(script_directory, '..', 'data', 'processed', 'processed_data.csv')\n",
    "df = pd.DataFrame(data)\n",
    "explanatory_variables = ['Q13', 'Q14', 'Q15_A8']\n",
    "response_variables = ['Q10', 'Q11', 'Q12']\n",
    "explanatory_variable_checkbox = widgets.Dropdown(options=explanatory_variables, value=explanatory_variables[0], description='Explanatory Variable:')\n",
    "response_variable_checkbox = widgets.Dropdown(options=response_variables, value=response_variables[0], description='Response Variable:')"
   ]
  },
  {
   "cell_type": "markdown",
   "id": "8aa6e027-a5c0-4418-87e3-b47d8a9e60e5",
   "metadata": {
    "tags": []
   },
   "source": [
    "$\\color{red}{路径没改相对路径！dockerize时需要把这里解决}$\n",
    "#### define functions"
   ]
  },
  {
   "cell_type": "code",
   "execution_count": 46,
   "id": "b888ae9f",
   "metadata": {
    "tags": []
   },
   "outputs": [],
   "source": [
    "def create_heatmap(selected_explanatory_var, selected_response_var):\n",
    "    selected_data = df[[selected_explanatory_var, selected_response_var]]\n",
    "\n",
    "    plt.figure(figsize=(8, 6))\n",
    "    sns.heatmap(selected_data.corr(), annot=True, cmap='coolwarm', linewidths=.5, vmin=-1, vmax=1)\n",
    "    plt.title('Heatmap of Correlation')\n",
    "    plt.show()"
   ]
  },
  {
   "cell_type": "markdown",
   "id": "a170b3d9-6be5-4e56-ba47-2821b244a70a",
   "metadata": {},
   "source": [
    "#### interactive component"
   ]
  },
  {
   "cell_type": "code",
   "execution_count": null,
   "id": "c4279d7c-d627-4bed-935a-d8931de3fce5",
   "metadata": {},
   "outputs": [],
   "source": [
    "interact(create_heatmap, selected_explanatory_var=explanatory_variable_checkbox, selected_response_var=response_variable_checkbox);"
   ]
  },
  {
   "cell_type": "markdown",
   "id": "67497a14-6c36-41a1-881f-dbf169f73496",
   "metadata": {},
   "source": [
    "## Conclusion\n",
    "### Political Satisfaction\n",
    "Interest in political news (Q13) has a positive effect on political satisfaction, with a coefficient of 0.1652. This means for every unit increase in interest in political news, political satisfaction increases by 0.1652 units, holding other variables constant.\n",
    "Frequency of reading political news (Q14) has a slightly negative impact, decreasing political satisfaction by 0.0237 units for each unit increase in frequency.\n",
    "Exposure to overseas news (Q15 A8) negatively impacts political satisfaction, with a coefficient of -0.1993. This suggests that more exposure to overseas news leads to a decrease in political satisfaction by 0.1993 units.\n",
    "\n",
    "### Economic Satisfaction\n",
    "Interest in political news (Q13) positively correlates with economic satisfaction, with a coefficient of 0.1451. An increase in interest in political news leads to a 0.1451 unit increase in economic satisfaction.\n",
    "The time spent on news (Q14) does not have a statistically significant relationship with economic satisfaction, as indicated by the non-significant P-value.\n",
    "Exposure to overseas news (Q15 A8) has a significant negative effect, with a coefficient of -0.1993. More exposure to overseas news decreases satisfaction with the economy by 0.1993 units.\n",
    "\n",
    "### Political Satisfaction\n",
    "Interest in political news (Q13) shows a positive correlation, with a coefficient of 0.1974. This implies that an increase in interest in political news is associated with a 0.1974 unit increase in satisfaction with life and work.\n",
    "The time allocated to news (Q14) does not show a significant relationship with life and work satisfaction.\n",
    "Exposure to overseas news (Q15 A8) has a negative impact, with a coefficient of -0.1233. Increasing exposure to overseas news is associated with a decrease in life and work satisfaction by 0.1233 units, although this relationship has a marginal level of significance\n"
   ]
  }
 ],
 "metadata": {
  "kernelspec": {
   "display_name": "Python 3 (ipykernel)",
   "language": "python",
   "name": "python3"
  },
  "language_info": {
   "codemirror_mode": {
    "name": "ipython",
    "version": 3
   },
   "file_extension": ".py",
   "mimetype": "text/x-python",
   "name": "python",
   "nbconvert_exporter": "python",
   "pygments_lexer": "ipython3",
   "version": "3.10.11"
  }
 },
 "nbformat": 4,
 "nbformat_minor": 5
}
