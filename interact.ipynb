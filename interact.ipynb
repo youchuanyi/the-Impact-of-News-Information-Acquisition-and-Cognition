{
 "cells": [
  {
   "cell_type": "code",
   "execution_count": 5,
   "id": "50886816",
   "metadata": {
    "tags": []
   },
   "outputs": [],
   "source": [
    "import pandas as pd\n",
    "import os\n",
    "import matplotlib.pyplot as plt\n",
    "import seaborn as sns\n",
    "from ipywidgets import interact, widgets\n",
    "current_directory = %pwd\n",
    "data_relative_path = os.path.join(current_directory, 'data', 'interim')\n",
    "data_file = os.path.join(data_relative_path, 'data.csv')\n",
    "data = pd.read_csv(data_file)\n",
    "index_of_valid_column = data.columns.get_loc('Q31')\n",
    "index_of_time_column = data.columns.get_loc('time')\n",
    "columns_to_keep = list(range(4, 27)) + [index_of_valid_column]+[index_of_time_column]\n",
    "data = data[data.columns[columns_to_keep]]\n",
    "\n",
    "#drop invalid sample\n",
    "data = data[data['Q31']==7]\n",
    "data = data[data['time']>=7]\n",
    "data = data.drop(columns=['Q1','Q2','Q15_A3','Q15_A4','Q15_A5','Q15_A6','Q15_A7','Q15_A9','Q15_A10','Q15_A10_open'])"
   ]
  },
  {
   "cell_type": "code",
   "execution_count": 2,
   "id": "92eb93df",
   "metadata": {
    "tags": []
   },
   "outputs": [],
   "source": [
    "explanatory_variables = ['Q13', 'Q14', 'Q15_A8']\n",
    "response_variables = ['Q10', 'Q11', 'Q12']\n",
    "explanatory_variable_checkbox = widgets.Dropdown(options=explanatory_variables, value=explanatory_variables[0], description='Explanatory Variable:')\n",
    "response_variable_checkbox = widgets.Dropdown(options=response_variables, value=response_variables[0], description='Response Variable:')"
   ]
  },
  {
   "cell_type": "code",
   "execution_count": 3,
   "id": "404f198a",
   "metadata": {
    "tags": []
   },
   "outputs": [],
   "source": [
    "def create_heatmap(selected_explanatory_var, selected_response_var):\n",
    "    selected_data = data[[selected_explanatory_var, selected_response_var]]\n",
    "\n",
    "    plt.figure(figsize=(8, 6))\n",
    "    sns.heatmap(selected_data.corr(), annot=True, cmap='coolwarm', linewidths=.5, vmin=-1, vmax=1)\n",
    "    plt.title('Heatmap of Correlation')\n",
    "    plt.show()"
   ]
  },
  {
   "cell_type": "code",
   "execution_count": 6,
   "id": "c7f85ed0",
   "metadata": {
    "tags": []
   },
   "outputs": [
    {
     "data": {
      "application/vnd.jupyter.widget-view+json": {
       "model_id": "d2491203433d4be2aac51e0cde3d53c0",
       "version_major": 2,
       "version_minor": 0
      },
      "text/plain": [
       "interactive(children=(Dropdown(description='Explanatory Variable:', options=('Q13', 'Q14', 'Q15_A8'), value='Q…"
      ]
     },
     "metadata": {},
     "output_type": "display_data"
    }
   ],
   "source": [
    "interact(create_heatmap, selected_explanatory_var=explanatory_variable_checkbox, selected_response_var=response_variable_checkbox);"
   ]
  }
 ],
 "metadata": {
  "kernelspec": {
   "display_name": "Python 3 (ipykernel)",
   "language": "python",
   "name": "python3"
  },
  "language_info": {
   "codemirror_mode": {
    "name": "ipython",
    "version": 3
   },
   "file_extension": ".py",
   "mimetype": "text/x-python",
   "name": "python",
   "nbconvert_exporter": "python",
   "pygments_lexer": "ipython3",
   "version": "3.10.11"
  }
 },
 "nbformat": 4,
 "nbformat_minor": 5
}
