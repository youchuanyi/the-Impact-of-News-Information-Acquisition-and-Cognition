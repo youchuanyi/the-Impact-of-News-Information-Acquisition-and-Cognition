{
 "cells": [
  {
   "cell_type": "code",
   "execution_count": 37,
   "id": "50886816",
   "metadata": {
    "tags": []
   },
   "outputs": [],
   "source": [
    "import seaborn as sns\n",
    "import pandas as pd\n",
    "import numpy as np\n",
    "from ipywidgets import interact, widgets\n",
    "from IPython.display import display\n",
    "import ipympl"
   ]
  },
  {
   "cell_type": "code",
   "execution_count": 2,
   "id": "92eb93df",
   "metadata": {
    "tags": []
   },
   "outputs": [],
   "source": [
    "data = pd.read_csv('D:/Python/Git/the-Impact-of-News-Information-Acquisition-and-Cognition-master/the-Impact-of-News-Information-Acquisition-and-Cognition-master/data/processed/processed_data.csv')"
   ]
  },
  {
   "cell_type": "code",
   "execution_count": 24,
   "id": "404f198a",
   "metadata": {
    "tags": []
   },
   "outputs": [],
   "source": [
    "df = pd.DataFrame(data)"
   ]
  },
  {
   "cell_type": "code",
   "execution_count": 25,
   "id": "c7f85ed0",
   "metadata": {
    "tags": []
   },
   "outputs": [
    {
     "data": {
      "text/html": [
       "<div>\n",
       "<style scoped>\n",
       "    .dataframe tbody tr th:only-of-type {\n",
       "        vertical-align: middle;\n",
       "    }\n",
       "\n",
       "    .dataframe tbody tr th {\n",
       "        vertical-align: top;\n",
       "    }\n",
       "\n",
       "    .dataframe thead th {\n",
       "        text-align: right;\n",
       "    }\n",
       "</style>\n",
       "<table border=\"1\" class=\"dataframe\">\n",
       "  <thead>\n",
       "    <tr style=\"text-align: right;\">\n",
       "      <th></th>\n",
       "      <th>Q3</th>\n",
       "      <th>Q4</th>\n",
       "      <th>Q5</th>\n",
       "      <th>Q6</th>\n",
       "      <th>Q7</th>\n",
       "      <th>Q8</th>\n",
       "      <th>Q9</th>\n",
       "      <th>Q10</th>\n",
       "      <th>Q11</th>\n",
       "      <th>Q12</th>\n",
       "      <th>Q13</th>\n",
       "      <th>Q14</th>\n",
       "      <th>Q15_A8</th>\n",
       "      <th>Q31</th>\n",
       "      <th>time</th>\n",
       "    </tr>\n",
       "  </thead>\n",
       "  <tbody>\n",
       "    <tr>\n",
       "      <th>0</th>\n",
       "      <td>2</td>\n",
       "      <td>4</td>\n",
       "      <td>2</td>\n",
       "      <td>2</td>\n",
       "      <td>1</td>\n",
       "      <td>6</td>\n",
       "      <td>3</td>\n",
       "      <td>7</td>\n",
       "      <td>7</td>\n",
       "      <td>7</td>\n",
       "      <td>5</td>\n",
       "      <td>6</td>\n",
       "      <td>0</td>\n",
       "      <td>7</td>\n",
       "      <td>7</td>\n",
       "    </tr>\n",
       "    <tr>\n",
       "      <th>1</th>\n",
       "      <td>1</td>\n",
       "      <td>4</td>\n",
       "      <td>2</td>\n",
       "      <td>2</td>\n",
       "      <td>2</td>\n",
       "      <td>6</td>\n",
       "      <td>3</td>\n",
       "      <td>5</td>\n",
       "      <td>6</td>\n",
       "      <td>5</td>\n",
       "      <td>5</td>\n",
       "      <td>6</td>\n",
       "      <td>0</td>\n",
       "      <td>7</td>\n",
       "      <td>9</td>\n",
       "    </tr>\n",
       "    <tr>\n",
       "      <th>2</th>\n",
       "      <td>2</td>\n",
       "      <td>4</td>\n",
       "      <td>2</td>\n",
       "      <td>2</td>\n",
       "      <td>2</td>\n",
       "      <td>6</td>\n",
       "      <td>3</td>\n",
       "      <td>5</td>\n",
       "      <td>7</td>\n",
       "      <td>4</td>\n",
       "      <td>6</td>\n",
       "      <td>6</td>\n",
       "      <td>0</td>\n",
       "      <td>7</td>\n",
       "      <td>9</td>\n",
       "    </tr>\n",
       "    <tr>\n",
       "      <th>3</th>\n",
       "      <td>2</td>\n",
       "      <td>4</td>\n",
       "      <td>2</td>\n",
       "      <td>2</td>\n",
       "      <td>1</td>\n",
       "      <td>6</td>\n",
       "      <td>5</td>\n",
       "      <td>6</td>\n",
       "      <td>6</td>\n",
       "      <td>5</td>\n",
       "      <td>4</td>\n",
       "      <td>5</td>\n",
       "      <td>0</td>\n",
       "      <td>7</td>\n",
       "      <td>9</td>\n",
       "    </tr>\n",
       "    <tr>\n",
       "      <th>4</th>\n",
       "      <td>1</td>\n",
       "      <td>4</td>\n",
       "      <td>2</td>\n",
       "      <td>2</td>\n",
       "      <td>1</td>\n",
       "      <td>3</td>\n",
       "      <td>7</td>\n",
       "      <td>6</td>\n",
       "      <td>6</td>\n",
       "      <td>4</td>\n",
       "      <td>6</td>\n",
       "      <td>6</td>\n",
       "      <td>0</td>\n",
       "      <td>7</td>\n",
       "      <td>8</td>\n",
       "    </tr>\n",
       "    <tr>\n",
       "      <th>...</th>\n",
       "      <td>...</td>\n",
       "      <td>...</td>\n",
       "      <td>...</td>\n",
       "      <td>...</td>\n",
       "      <td>...</td>\n",
       "      <td>...</td>\n",
       "      <td>...</td>\n",
       "      <td>...</td>\n",
       "      <td>...</td>\n",
       "      <td>...</td>\n",
       "      <td>...</td>\n",
       "      <td>...</td>\n",
       "      <td>...</td>\n",
       "      <td>...</td>\n",
       "      <td>...</td>\n",
       "    </tr>\n",
       "    <tr>\n",
       "      <th>1150</th>\n",
       "      <td>1</td>\n",
       "      <td>1</td>\n",
       "      <td>2</td>\n",
       "      <td>3</td>\n",
       "      <td>1</td>\n",
       "      <td>4</td>\n",
       "      <td>7</td>\n",
       "      <td>6</td>\n",
       "      <td>6</td>\n",
       "      <td>5</td>\n",
       "      <td>6</td>\n",
       "      <td>6</td>\n",
       "      <td>0</td>\n",
       "      <td>7</td>\n",
       "      <td>16</td>\n",
       "    </tr>\n",
       "    <tr>\n",
       "      <th>1151</th>\n",
       "      <td>2</td>\n",
       "      <td>2</td>\n",
       "      <td>3</td>\n",
       "      <td>1</td>\n",
       "      <td>2</td>\n",
       "      <td>5</td>\n",
       "      <td>7</td>\n",
       "      <td>6</td>\n",
       "      <td>6</td>\n",
       "      <td>5</td>\n",
       "      <td>6</td>\n",
       "      <td>7</td>\n",
       "      <td>0</td>\n",
       "      <td>7</td>\n",
       "      <td>13</td>\n",
       "    </tr>\n",
       "    <tr>\n",
       "      <th>1152</th>\n",
       "      <td>2</td>\n",
       "      <td>2</td>\n",
       "      <td>3</td>\n",
       "      <td>1</td>\n",
       "      <td>1</td>\n",
       "      <td>5</td>\n",
       "      <td>7</td>\n",
       "      <td>6</td>\n",
       "      <td>6</td>\n",
       "      <td>6</td>\n",
       "      <td>6</td>\n",
       "      <td>7</td>\n",
       "      <td>0</td>\n",
       "      <td>7</td>\n",
       "      <td>20</td>\n",
       "    </tr>\n",
       "    <tr>\n",
       "      <th>1153</th>\n",
       "      <td>2</td>\n",
       "      <td>4</td>\n",
       "      <td>3</td>\n",
       "      <td>1</td>\n",
       "      <td>2</td>\n",
       "      <td>3</td>\n",
       "      <td>7</td>\n",
       "      <td>6</td>\n",
       "      <td>6</td>\n",
       "      <td>4</td>\n",
       "      <td>6</td>\n",
       "      <td>7</td>\n",
       "      <td>0</td>\n",
       "      <td>7</td>\n",
       "      <td>14</td>\n",
       "    </tr>\n",
       "    <tr>\n",
       "      <th>1154</th>\n",
       "      <td>1</td>\n",
       "      <td>1</td>\n",
       "      <td>2</td>\n",
       "      <td>3</td>\n",
       "      <td>3</td>\n",
       "      <td>5</td>\n",
       "      <td>5</td>\n",
       "      <td>6</td>\n",
       "      <td>6</td>\n",
       "      <td>6</td>\n",
       "      <td>5</td>\n",
       "      <td>7</td>\n",
       "      <td>1</td>\n",
       "      <td>7</td>\n",
       "      <td>13</td>\n",
       "    </tr>\n",
       "  </tbody>\n",
       "</table>\n",
       "<p>1155 rows × 15 columns</p>\n",
       "</div>"
      ],
      "text/plain": [
       "      Q3  Q4  Q5  Q6  Q7  Q8  Q9  Q10  Q11  Q12  Q13  Q14  Q15_A8  Q31  time\n",
       "0      2   4   2   2   1   6   3    7    7    7    5    6       0    7     7\n",
       "1      1   4   2   2   2   6   3    5    6    5    5    6       0    7     9\n",
       "2      2   4   2   2   2   6   3    5    7    4    6    6       0    7     9\n",
       "3      2   4   2   2   1   6   5    6    6    5    4    5       0    7     9\n",
       "4      1   4   2   2   1   3   7    6    6    4    6    6       0    7     8\n",
       "...   ..  ..  ..  ..  ..  ..  ..  ...  ...  ...  ...  ...     ...  ...   ...\n",
       "1150   1   1   2   3   1   4   7    6    6    5    6    6       0    7    16\n",
       "1151   2   2   3   1   2   5   7    6    6    5    6    7       0    7    13\n",
       "1152   2   2   3   1   1   5   7    6    6    6    6    7       0    7    20\n",
       "1153   2   4   3   1   2   3   7    6    6    4    6    7       0    7    14\n",
       "1154   1   1   2   3   3   5   5    6    6    6    5    7       1    7    13\n",
       "\n",
       "[1155 rows x 15 columns]"
      ]
     },
     "execution_count": 25,
     "metadata": {},
     "output_type": "execute_result"
    }
   ],
   "source": [
    "df"
   ]
  },
  {
   "cell_type": "code",
   "execution_count": 26,
   "id": "d785bab3",
   "metadata": {
    "tags": []
   },
   "outputs": [],
   "source": [
    "explanatory_variables = ['Q13', 'Q14', 'Q15']\n",
    "response_variables = ['Q10', 'Q11', 'Q12']"
   ]
  },
  {
   "cell_type": "code",
   "execution_count": 39,
   "id": "c07d0401",
   "metadata": {
    "tags": []
   },
   "outputs": [],
   "source": [
    "explanatory_variable_checkbox = widgets.Dropdown(options=explanatory_variables, value=explanatory_variables[0], description='Explanatory Variable:')\n",
    "response_variable_checkbox = widgets.Dropdown(options=response_variables, value=response_variables[0], description='Response Variable:')"
   ]
  },
  {
   "cell_type": "code",
   "execution_count": 40,
   "id": "b888ae9f",
   "metadata": {
    "tags": []
   },
   "outputs": [],
   "source": [
    "def create_heatmap(selected_explanatory_var, selected_response_var):\n",
    "    selected_data = df[[selected_explanatory_var, selected_response_var]]\n",
    "\n",
    "    plt.figure(figsize=(8, 6))\n",
    "    sns.heatmap(selected_data.corr(), annot=True, cmap='coolwarm', linewidths=.5)\n",
    "    plt.title('Heatmap of Correlation')\n",
    "    plt.show()"
   ]
  },
  {
   "cell_type": "code",
   "execution_count": null,
   "id": "0d8d256e",
   "metadata": {
    "tags": []
   },
   "outputs": [],
   "source": []
  },
  {
   "cell_type": "code",
   "execution_count": 41,
   "id": "f3312628",
   "metadata": {
    "tags": []
   },
   "outputs": [
    {
     "data": {
      "application/vnd.jupyter.widget-view+json": {
       "model_id": "b91cabca1dec484e9e4bb6fb63c55dc8",
       "version_major": 2,
       "version_minor": 0
      },
      "text/plain": [
       "interactive(children=(Dropdown(description='Explanatory Variable:', options=('Q13', 'Q14', 'Q15'), value='Q13'…"
      ]
     },
     "metadata": {},
     "output_type": "display_data"
    }
   ],
   "source": [
    "interact(create_heatmap, selected_explanatory_var=explanatory_variable_checkbox, selected_response_var=response_variable_checkbox);"
   ]
  },
  {
   "cell_type": "code",
   "execution_count": 35,
   "id": "2d7aadb6",
   "metadata": {
    "tags": []
   },
   "outputs": [
    {
     "data": {
      "application/vnd.jupyter.widget-view+json": {
       "model_id": "08a22ab478e04ac8a88f84f1fab1e27a",
       "version_major": 2,
       "version_minor": 0
      },
      "image/png": "[encoded data removed]",
      "text/html": [
       "\n",
       "            <div style=\"display: inline-block;\">\n",
       "                <div class=\"jupyter-widgets widget-label\" style=\"text-align: center;\">\n",
       "                    Figure\n",
       "                </div>\n",
       "                <img src='data:image/png;base64,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' width=800.0/>\n",
       "            </div>\n",
       "        "
      ],
      "text/plain": [
       "Canvas(toolbar=Toolbar(toolitems=[('Home', 'Reset original view', 'home', 'home'), ('Back', 'Back to previous …"
      ]
     },
     "metadata": {},
     "output_type": "display_data"
    },
    {
     "data": {
      "application/vnd.jupyter.widget-view+json": {
       "model_id": "9e2cf68a84434674b3f73dd2609cd2f4",
       "version_major": 2,
       "version_minor": 0
      },
      "text/plain": [
       "Dropdown(description='Explanatory Variable:', options=('Q13', 'Q14', 'Q15'), value='Q13')"
      ]
     },
     "metadata": {},
     "output_type": "display_data"
    },
    {
     "data": {
      "application/vnd.jupyter.widget-view+json": {
       "model_id": "eb2ef3dc325f4d92b4c52c35a132ad5c",
       "version_major": 2,
       "version_minor": 0
      },
      "text/plain": [
       "Dropdown(description='Response Variable:', options=('Q10', 'Q11', 'Q12'), value='Q10')"
      ]
     },
     "metadata": {},
     "output_type": "display_data"
    }
   ],
   "source": []
  },
  {
   "cell_type": "code",
   "execution_count": null,
   "id": "9455ff6f",
   "metadata": {},
   "outputs": [],
   "source": []
  },
  {
   "cell_type": "code",
   "execution_count": null,
   "id": "2a6b0b26",
   "metadata": {},
   "outputs": [],
   "source": []
  },
  {
   "cell_type": "code",
   "execution_count": null,
   "id": "3fbe6aa9",
   "metadata": {},
   "outputs": [],
   "source": []
  }
 ],
 "metadata": {
  "kernelspec": {
   "display_name": "Python 3 (ipykernel)",
   "language": "python",
   "name": "python3"
  },
  "language_info": {
   "codemirror_mode": {
    "name": "ipython",
    "version": 3
   },
   "file_extension": ".py",
   "mimetype": "text/x-python",
   "name": "python",
   "nbconvert_exporter": "python",
   "pygments_lexer": "ipython3",
   "version": "3.10.11"
  }
 },
 "nbformat": 4,
 "nbformat_minor": 5
}
